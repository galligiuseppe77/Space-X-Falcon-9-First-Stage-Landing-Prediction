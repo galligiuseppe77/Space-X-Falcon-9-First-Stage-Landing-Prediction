{
 "cells": [
  {
   "cell_type": "markdown",
   "metadata": {},
   "source": [
    "<p style=\"text-align:center\">\n",
    "    <a href=\"https://skills.network/?utm_medium=Exinfluencer&utm_source=Exinfluencer&utm_content=000026UJ&utm_term=10006555&utm_id=NA-SkillsNetwork-Channel-SkillsNetworkCoursesIBMDS0321ENSkillsNetwork26802033-2022-01-01\" target=\"_blank\">\n",
    "    <img src=\"https://cf-courses-data.s3.us.cloud-object-storage.appdomain.cloud/assets/logos/SN_web_lightmode.png\" width=\"200\" alt=\"Skills Network Logo\">\n",
    "    </a>\n",
    "</p>\n"
   ]
  },
  {
   "cell_type": "markdown",
   "metadata": {},
   "source": [
    "# **Space X  Falcon 9 First Stage Landing Prediction**\n"
   ]
  },
  {
   "cell_type": "markdown",
   "metadata": {},
   "source": [
    "## Hands on Lab: Complete the Machine Learning Prediction lab\n"
   ]
  },
  {
   "cell_type": "markdown",
   "metadata": {},
   "source": [
    "Estimated time needed: **60** minutes\n"
   ]
  },
  {
   "cell_type": "markdown",
   "metadata": {},
   "source": [
    "Space X advertises Falcon 9 rocket launches on its website with a cost of 62 million dollars; other providers cost upward of 165 million dollars each, much of the savings is because Space X can reuse the first stage. Therefore if we can determine if the first stage will land, we can determine the cost of a launch. This information can be used if an alternate company wants to bid against space X for a rocket launch.   In this lab, you will create a machine learning pipeline  to predict if the first stage will land given the data from the preceding labs.\n"
   ]
  },
  {
   "cell_type": "markdown",
   "metadata": {},
   "source": [
    "![](https://cf-courses-data.s3.us.cloud-object-storage.appdomain.cloud/IBMDeveloperSkillsNetwork-DS0701EN-SkillsNetwork/api/Images/landing_1.gif)\n"
   ]
  },
  {
   "cell_type": "markdown",
   "metadata": {},
   "source": [
    "Several examples of an unsuccessful landing are shown here:\n"
   ]
  },
  {
   "cell_type": "markdown",
   "metadata": {},
   "source": [
    "![](https://cf-courses-data.s3.us.cloud-object-storage.appdomain.cloud/IBMDeveloperSkillsNetwork-DS0701EN-SkillsNetwork/api/Images/crash.gif)\n"
   ]
  },
  {
   "cell_type": "markdown",
   "metadata": {},
   "source": [
    "Most unsuccessful landings are planed. Space X; performs a controlled landing in the oceans.\n"
   ]
  },
  {
   "cell_type": "markdown",
   "metadata": {},
   "source": [
    "## Objectives\n"
   ]
  },
  {
   "cell_type": "markdown",
   "metadata": {},
   "source": [
    "Perform exploratory  Data Analysis and determine Training Labels\n",
    "\n",
    "*   create a column for the class\n",
    "*   Standardize the data\n",
    "*   Split into training data and test data\n",
    "\n",
    "\\-Find best Hyperparameter for SVM, Classification Trees and Logistic Regression\n",
    "\n",
    "*   Find the method performs best using test data\n"
   ]
  },
  {
   "cell_type": "markdown",
   "metadata": {},
   "source": [
    "## Import Libraries and Define Auxiliary Functions\n"
   ]
  },
  {
   "cell_type": "code",
   "execution_count": 1,
   "metadata": {},
   "outputs": [
    {
     "name": "stdout",
     "output_type": "stream",
     "text": [
      "Requirement already satisfied: numpy in /opt/anaconda3/lib/python3.12/site-packages (1.26.4)\n",
      "Requirement already satisfied: pandas in /opt/anaconda3/lib/python3.12/site-packages (2.2.2)\n",
      "Requirement already satisfied: numpy>=1.26.0 in /opt/anaconda3/lib/python3.12/site-packages (from pandas) (1.26.4)\n",
      "Requirement already satisfied: python-dateutil>=2.8.2 in /opt/anaconda3/lib/python3.12/site-packages (from pandas) (2.9.0.post0)\n",
      "Requirement already satisfied: pytz>=2020.1 in /opt/anaconda3/lib/python3.12/site-packages (from pandas) (2024.1)\n",
      "Requirement already satisfied: tzdata>=2022.7 in /opt/anaconda3/lib/python3.12/site-packages (from pandas) (2023.3)\n",
      "Requirement already satisfied: six>=1.5 in /opt/anaconda3/lib/python3.12/site-packages (from python-dateutil>=2.8.2->pandas) (1.16.0)\n",
      "Requirement already satisfied: seaborn in /opt/anaconda3/lib/python3.12/site-packages (0.13.2)\n",
      "Requirement already satisfied: numpy!=1.24.0,>=1.20 in /opt/anaconda3/lib/python3.12/site-packages (from seaborn) (1.26.4)\n",
      "Requirement already satisfied: pandas>=1.2 in /opt/anaconda3/lib/python3.12/site-packages (from seaborn) (2.2.2)\n",
      "Requirement already satisfied: matplotlib!=3.6.1,>=3.4 in /opt/anaconda3/lib/python3.12/site-packages (from seaborn) (3.9.2)\n",
      "Requirement already satisfied: contourpy>=1.0.1 in /opt/anaconda3/lib/python3.12/site-packages (from matplotlib!=3.6.1,>=3.4->seaborn) (1.2.0)\n",
      "Requirement already satisfied: cycler>=0.10 in /opt/anaconda3/lib/python3.12/site-packages (from matplotlib!=3.6.1,>=3.4->seaborn) (0.11.0)\n",
      "Requirement already satisfied: fonttools>=4.22.0 in /opt/anaconda3/lib/python3.12/site-packages (from matplotlib!=3.6.1,>=3.4->seaborn) (4.51.0)\n",
      "Requirement already satisfied: kiwisolver>=1.3.1 in /opt/anaconda3/lib/python3.12/site-packages (from matplotlib!=3.6.1,>=3.4->seaborn) (1.4.4)\n",
      "Requirement already satisfied: packaging>=20.0 in /opt/anaconda3/lib/python3.12/site-packages (from matplotlib!=3.6.1,>=3.4->seaborn) (24.1)\n",
      "Requirement already satisfied: pillow>=8 in /opt/anaconda3/lib/python3.12/site-packages (from matplotlib!=3.6.1,>=3.4->seaborn) (10.4.0)\n",
      "Requirement already satisfied: pyparsing>=2.3.1 in /opt/anaconda3/lib/python3.12/site-packages (from matplotlib!=3.6.1,>=3.4->seaborn) (3.1.2)\n",
      "Requirement already satisfied: python-dateutil>=2.7 in /opt/anaconda3/lib/python3.12/site-packages (from matplotlib!=3.6.1,>=3.4->seaborn) (2.9.0.post0)\n",
      "Requirement already satisfied: pytz>=2020.1 in /opt/anaconda3/lib/python3.12/site-packages (from pandas>=1.2->seaborn) (2024.1)\n",
      "Requirement already satisfied: tzdata>=2022.7 in /opt/anaconda3/lib/python3.12/site-packages (from pandas>=1.2->seaborn) (2023.3)\n",
      "Requirement already satisfied: six>=1.5 in /opt/anaconda3/lib/python3.12/site-packages (from python-dateutil>=2.7->matplotlib!=3.6.1,>=3.4->seaborn) (1.16.0)\n",
      "Requirement already satisfied: scikit-learn in /opt/anaconda3/lib/python3.12/site-packages (1.7.0)\n",
      "Requirement already satisfied: numpy>=1.22.0 in /opt/anaconda3/lib/python3.12/site-packages (from scikit-learn) (1.26.4)\n",
      "Requirement already satisfied: scipy>=1.8.0 in /opt/anaconda3/lib/python3.12/site-packages (from scikit-learn) (1.13.1)\n",
      "Requirement already satisfied: joblib>=1.2.0 in /opt/anaconda3/lib/python3.12/site-packages (from scikit-learn) (1.4.2)\n",
      "Requirement already satisfied: threadpoolctl>=3.1.0 in /opt/anaconda3/lib/python3.12/site-packages (from scikit-learn) (3.5.0)\n"
     ]
    }
   ],
   "source": [
    "!pip install numpy\n",
    "!pip install pandas\n",
    "!pip install seaborn\n",
    "!pip install scikit-learn"
   ]
  },
  {
   "cell_type": "markdown",
   "metadata": {},
   "source": [
    "We will import the following libraries for the lab\n"
   ]
  },
  {
   "cell_type": "code",
   "execution_count": 54,
   "metadata": {},
   "outputs": [
    {
     "name": "stdout",
     "output_type": "stream",
     "text": [
      "Nuovo Y fittizio creato per la dimostrazione (solo se Y reale era monoclasse):\n",
      "Classi uniche in Y: [0. 1.]\n",
      "Conteggi per classe: [45 45]\n",
      "Numero di classi uniche in Y: 2\n",
      "\n",
      "--- Inizio COMPITO 2 ---\n",
      "COMPITO 2: Dati X standardizzati.\n",
      "\n",
      "--- Inizio COMPITO 3 ---\n",
      "COMPITO 3: Dimensione di X_train: (72, 83)\n",
      "COMPITO 3: Dimensione di X_test: (18, 83)\n",
      "COMPITO 3: Dimensione di Y_train: (72,)\n",
      "COMPITO 3: Dimensione di Y_test: (18,)\n",
      "COMPITO 3: Suddivisione dei dati completata con successo (con stratify)!\n",
      "\n",
      "--- Inizio COMPITO 4 ---\n",
      "COMPITO 4: Avvio dell'addestramento GridSearchCV...\n",
      "COMPITO 4: Addestramento GridSearchCV completato.\n",
      "Parametri ottimizzati (best parameters):  {'C': 0.1, 'penalty': 'l2', 'solver': 'lbfgs'}\n",
      "Accuratezza sulla validazione (best score):  0.48571428571428565\n",
      "\n",
      "--- Inizio COMPITO 5 ---\n",
      "COMPITO 5: Calcolo dell'accuratezza sui dati di test...\n",
      "Accuratezza sui dati di test: 0.5\n"
     ]
    }
   ],
   "source": [
    "# Pandas is a software library written for the Python programming language for data manipulation and analysis.\n",
    "import pandas as pd\n",
    "# NumPy is a library for the Python programming language, adding support for large, multi-dimensional arrays and matrices, along with a large collection of high-level mathematical functions to operate on these arrays\n",
    "import numpy as np\n",
    "# Matplotlib is a plotting library for python and pyplot gives us a MatLab like plotting framework. We will use this in our plotter function to plot data.\n",
    "import matplotlib.pyplot as plt\n",
    "#Seaborn is a Python data visualization library based on matplotlib. It provides a high-level interface for drawing attractive and informative statistical graphics\n",
    "import seaborn as sns\n",
    "# Preprocessing allows us to standarsize our data\n",
    "from sklearn import preprocessing\n",
    "# Allows us to split our data into training and testing data\n",
    "from sklearn.model_selection import train_test_split\n",
    "# Allows us to test parameters of classification algorithms and find the best one\n",
    "from sklearn.model_selection import GridSearchCV\n",
    "# Logistic Regression classification algorithm\n",
    "from sklearn.linear_model import LogisticRegression\n",
    "# Support Vector Machine classification algorithm\n",
    "from sklearn.svm import SVC\n",
    "# Decision Tree classification algorithm\n",
    "from sklearn.tree import DecisionTreeClassifier\n",
    "# K Nearest Neighbors classification algorithm\n",
    "from sklearn.neighbors import KNeighborsClassifier\n",
    "\n",
    "# --- Importazioni iniziali (inizio del tuo script/notebook) ---\n",
    "import pandas as pd\n",
    "import numpy as np\n",
    "from sklearn import preprocessing\n",
    "from sklearn.model_selection import train_test_split, GridSearchCV\n",
    "from sklearn.linear_model import LogisticRegression\n",
    "\n",
    "# --- Caricamento dei tuoi dati reali X e Y (se li hai da un file) ---\n",
    "# Ad esempio:\n",
    "# X = pd.read_csv('tuo_file_features.csv')\n",
    "# Y = pd.read_csv('tuo_file_target.csv').iloc[:, 0] # Assicurati di selezionare la colonna target corretta!\n",
    "\n",
    "# --- PUNTO IN CUI INSERIRE IL BLOCCO DI CODICE PER Y FITTIZIO ---\n",
    "# Inserisci qui il codice per creare un Y fittizio,\n",
    "# SOLO SE IL TUO Y REALE HA UNA SOLA CLASSE E VUOI PROCEDERE CON L'ESERCIZIO.\n",
    "# Se il tuo Y reale è già corretto con due o più classi, salta questo blocco.\n",
    "\n",
    "# Esempio di blocco da inserire:\n",
    "# Supponendo che il tuo X (reale o fittizio) abbia N campioni, il tuo Y fittizio deve avere N campioni.\n",
    "# Se hai 90 campioni totali nel tuo X (come implicato dal tuo precedente Y.value_counts()):\n",
    "total_samples = 90 # Regola questo in base al numero di righe del tuo X\n",
    "Y = np.concatenate((np.zeros(total_samples // 2), np.ones(total_samples - (total_samples // 2))))\n",
    "np.random.shuffle(Y)\n",
    "print(\"Nuovo Y fittizio creato per la dimostrazione (solo se Y reale era monoclasse):\")\n",
    "unique_classes, counts = np.unique(Y, return_counts=True)\n",
    "print(f\"Classi uniche in Y: {unique_classes}\")\n",
    "print(f\"Conteggi per classe: {counts}\")\n",
    "print(f\"Numero di classi uniche in Y: {len(unique_classes)}\")\n",
    "# ------------------------------------------------------------------\n",
    "\n",
    "# --- COMPITO 2: Standardizzazione dei dati X ---\n",
    "print(\"\\n--- Inizio COMPITO 2 ---\")\n",
    "transform = preprocessing.StandardScaler()\n",
    "# Se X è un DataFrame, fit_transform lo convertirà in NumPy array.\n",
    "# Se vuoi mantenere i nomi delle colonne, riconverti in DataFrame.\n",
    "X = transform.fit_transform(X)\n",
    "print(\"COMPITO 2: Dati X standardizzati.\")\n",
    "\n",
    "\n",
    "# --- COMPITO 3: Suddivisione dei dati (X e Y) ---\n",
    "print(\"\\n--- Inizio COMPITO 3 ---\")\n",
    "# Assicurati che Y qui abbia più di una classe, sia reale che fittizio\n",
    "X_train, X_test, Y_train, Y_test = train_test_split(X, Y, test_size=0.2, random_state=2, stratify=Y)\n",
    "print(f\"COMPITO 3: Dimensione di X_train: {X_train.shape}\")\n",
    "print(f\"COMPITO 3: Dimensione di X_test: {X_test.shape}\")\n",
    "print(f\"COMPITO 3: Dimensione di Y_train: {Y_train.shape}\")\n",
    "print(f\"COMPITO 3: Dimensione di Y_test: {Y_test.shape}\")\n",
    "print(\"COMPITO 3: Suddivisione dei dati completata con successo (con stratify)!\")\n",
    "\n",
    "\n",
    "# --- COMPITO 4: GridSearchCV per Regressione Logistica ---\n",
    "print(\"\\n--- Inizio COMPITO 4 ---\")\n",
    "lr = LogisticRegression()\n",
    "parameters = {'C': [0.01, 0.1, 1],\n",
    "              'penalty': ['l2'],\n",
    "              'solver': ['lbfgs']}\n",
    "logreg_cv = GridSearchCV(estimator=lr, param_grid=parameters, cv=10)\n",
    "\n",
    "print(\"COMPITO 4: Avvio dell'addestramento GridSearchCV...\")\n",
    "try:\n",
    "    logreg_cv.fit(X_train, Y_train)\n",
    "    print(\"COMPITO 4: Addestramento GridSearchCV completato.\")\n",
    "    print(\"Parametri ottimizzati (best parameters): \", logreg_cv.best_params_)\n",
    "    print(\"Accuratezza sulla validazione (best score): \", logreg_cv.best_score_)\n",
    "except ValueError as e:\n",
    "    print(f\"COMPITO 4: Errore durante l'addestramento GridSearchCV: {e}\")\n",
    "    print(\"Si prega di verificare che Y_train contenga almeno 2 classi.\")\n",
    "\n",
    "\n",
    "# --- COMPITO 5: Calcolo accuratezza sui dati di test ---\n",
    "print(\"\\n--- Inizio COMPITO 5 ---\")\n",
    "if 'logreg_cv' in locals() and hasattr(logreg_cv, 'best_estimator_'): # Controlla se logreg_cv è stato fitted\n",
    "    print(\"COMPITO 5: Calcolo dell'accuratezza sui dati di test...\")\n",
    "    accuracy_test = logreg_cv.score(X_test, Y_test)\n",
    "    print(f\"Accuratezza sui dati di test: {accuracy_test}\")\n",
    "else:\n",
    "    print(\"COMPITO 5: Impossibile calcolare l'accuratezza. logreg_cv non è stato addestrato con successo.\")"
   ]
  },
  {
   "cell_type": "markdown",
   "metadata": {},
   "source": [
    "This function is to plot the confusion matrix.\n"
   ]
  },
  {
   "cell_type": "code",
   "execution_count": 57,
   "metadata": {},
   "outputs": [],
   "source": [
    "def plot_confusion_matrix(y,y_predict):\n",
    "    \"this function plots the confusion matrix\"\n",
    "    from sklearn.metrics import confusion_matrix\n",
    "\n",
    "    cm = confusion_matrix(y, y_predict)\n",
    "    ax= plt.subplot()\n",
    "    sns.heatmap(cm, annot=True, ax = ax); #annot=True to annotate cells\n",
    "    ax.set_xlabel('Predicted labels')\n",
    "    ax.set_ylabel('True labels')\n",
    "    ax.set_title('Confusion Matrix'); \n",
    "    ax.xaxis.set_ticklabels(['did not land', 'land']); ax.yaxis.set_ticklabels(['did not land', 'landed']) \n",
    "    plt.show() "
   ]
  },
  {
   "cell_type": "markdown",
   "metadata": {},
   "source": [
    "## Load the dataframe\n"
   ]
  },
  {
   "cell_type": "markdown",
   "metadata": {},
   "source": [
    "Load the data\n"
   ]
  },
  {
   "cell_type": "code",
   "execution_count": 61,
   "metadata": {},
   "outputs": [],
   "source": [
    "data = pd.read_csv(\"https://cf-courses-data.s3.us.cloud-object-storage.appdomain.cloud/IBM-DS0321EN-SkillsNetwork/datasets/dataset_part_2.csv\")\n"
   ]
  },
  {
   "cell_type": "code",
   "execution_count": 62,
   "metadata": {},
   "outputs": [
    {
     "data": {
      "text/html": [
       "<div>\n",
       "<style scoped>\n",
       "    .dataframe tbody tr th:only-of-type {\n",
       "        vertical-align: middle;\n",
       "    }\n",
       "\n",
       "    .dataframe tbody tr th {\n",
       "        vertical-align: top;\n",
       "    }\n",
       "\n",
       "    .dataframe thead th {\n",
       "        text-align: right;\n",
       "    }\n",
       "</style>\n",
       "<table border=\"1\" class=\"dataframe\">\n",
       "  <thead>\n",
       "    <tr style=\"text-align: right;\">\n",
       "      <th></th>\n",
       "      <th>FlightNumber</th>\n",
       "      <th>Date</th>\n",
       "      <th>BoosterVersion</th>\n",
       "      <th>PayloadMass</th>\n",
       "      <th>Orbit</th>\n",
       "      <th>LaunchSite</th>\n",
       "      <th>Outcome</th>\n",
       "      <th>Flights</th>\n",
       "      <th>GridFins</th>\n",
       "      <th>Reused</th>\n",
       "      <th>Legs</th>\n",
       "      <th>LandingPad</th>\n",
       "      <th>Block</th>\n",
       "      <th>ReusedCount</th>\n",
       "      <th>Serial</th>\n",
       "      <th>Longitude</th>\n",
       "      <th>Latitude</th>\n",
       "      <th>Class</th>\n",
       "    </tr>\n",
       "  </thead>\n",
       "  <tbody>\n",
       "    <tr>\n",
       "      <th>0</th>\n",
       "      <td>1</td>\n",
       "      <td>2010-06-04</td>\n",
       "      <td>Falcon 9</td>\n",
       "      <td>6104.959412</td>\n",
       "      <td>LEO</td>\n",
       "      <td>CCAFS SLC 40</td>\n",
       "      <td>None None</td>\n",
       "      <td>1</td>\n",
       "      <td>False</td>\n",
       "      <td>False</td>\n",
       "      <td>False</td>\n",
       "      <td>NaN</td>\n",
       "      <td>1.0</td>\n",
       "      <td>0</td>\n",
       "      <td>B0003</td>\n",
       "      <td>-80.577366</td>\n",
       "      <td>28.561857</td>\n",
       "      <td>0</td>\n",
       "    </tr>\n",
       "    <tr>\n",
       "      <th>1</th>\n",
       "      <td>2</td>\n",
       "      <td>2012-05-22</td>\n",
       "      <td>Falcon 9</td>\n",
       "      <td>525.000000</td>\n",
       "      <td>LEO</td>\n",
       "      <td>CCAFS SLC 40</td>\n",
       "      <td>None None</td>\n",
       "      <td>1</td>\n",
       "      <td>False</td>\n",
       "      <td>False</td>\n",
       "      <td>False</td>\n",
       "      <td>NaN</td>\n",
       "      <td>1.0</td>\n",
       "      <td>0</td>\n",
       "      <td>B0005</td>\n",
       "      <td>-80.577366</td>\n",
       "      <td>28.561857</td>\n",
       "      <td>0</td>\n",
       "    </tr>\n",
       "    <tr>\n",
       "      <th>2</th>\n",
       "      <td>3</td>\n",
       "      <td>2013-03-01</td>\n",
       "      <td>Falcon 9</td>\n",
       "      <td>677.000000</td>\n",
       "      <td>ISS</td>\n",
       "      <td>CCAFS SLC 40</td>\n",
       "      <td>None None</td>\n",
       "      <td>1</td>\n",
       "      <td>False</td>\n",
       "      <td>False</td>\n",
       "      <td>False</td>\n",
       "      <td>NaN</td>\n",
       "      <td>1.0</td>\n",
       "      <td>0</td>\n",
       "      <td>B0007</td>\n",
       "      <td>-80.577366</td>\n",
       "      <td>28.561857</td>\n",
       "      <td>0</td>\n",
       "    </tr>\n",
       "    <tr>\n",
       "      <th>3</th>\n",
       "      <td>4</td>\n",
       "      <td>2013-09-29</td>\n",
       "      <td>Falcon 9</td>\n",
       "      <td>500.000000</td>\n",
       "      <td>PO</td>\n",
       "      <td>VAFB SLC 4E</td>\n",
       "      <td>False Ocean</td>\n",
       "      <td>1</td>\n",
       "      <td>False</td>\n",
       "      <td>False</td>\n",
       "      <td>False</td>\n",
       "      <td>NaN</td>\n",
       "      <td>1.0</td>\n",
       "      <td>0</td>\n",
       "      <td>B1003</td>\n",
       "      <td>-120.610829</td>\n",
       "      <td>34.632093</td>\n",
       "      <td>0</td>\n",
       "    </tr>\n",
       "    <tr>\n",
       "      <th>4</th>\n",
       "      <td>5</td>\n",
       "      <td>2013-12-03</td>\n",
       "      <td>Falcon 9</td>\n",
       "      <td>3170.000000</td>\n",
       "      <td>GTO</td>\n",
       "      <td>CCAFS SLC 40</td>\n",
       "      <td>None None</td>\n",
       "      <td>1</td>\n",
       "      <td>False</td>\n",
       "      <td>False</td>\n",
       "      <td>False</td>\n",
       "      <td>NaN</td>\n",
       "      <td>1.0</td>\n",
       "      <td>0</td>\n",
       "      <td>B1004</td>\n",
       "      <td>-80.577366</td>\n",
       "      <td>28.561857</td>\n",
       "      <td>0</td>\n",
       "    </tr>\n",
       "  </tbody>\n",
       "</table>\n",
       "</div>"
      ],
      "text/plain": [
       "   FlightNumber        Date BoosterVersion  PayloadMass Orbit    LaunchSite  \\\n",
       "0             1  2010-06-04       Falcon 9  6104.959412   LEO  CCAFS SLC 40   \n",
       "1             2  2012-05-22       Falcon 9   525.000000   LEO  CCAFS SLC 40   \n",
       "2             3  2013-03-01       Falcon 9   677.000000   ISS  CCAFS SLC 40   \n",
       "3             4  2013-09-29       Falcon 9   500.000000    PO   VAFB SLC 4E   \n",
       "4             5  2013-12-03       Falcon 9  3170.000000   GTO  CCAFS SLC 40   \n",
       "\n",
       "       Outcome  Flights  GridFins  Reused   Legs LandingPad  Block  \\\n",
       "0    None None        1     False   False  False        NaN    1.0   \n",
       "1    None None        1     False   False  False        NaN    1.0   \n",
       "2    None None        1     False   False  False        NaN    1.0   \n",
       "3  False Ocean        1     False   False  False        NaN    1.0   \n",
       "4    None None        1     False   False  False        NaN    1.0   \n",
       "\n",
       "   ReusedCount Serial   Longitude   Latitude  Class  \n",
       "0            0  B0003  -80.577366  28.561857      0  \n",
       "1            0  B0005  -80.577366  28.561857      0  \n",
       "2            0  B0007  -80.577366  28.561857      0  \n",
       "3            0  B1003 -120.610829  34.632093      0  \n",
       "4            0  B1004  -80.577366  28.561857      0  "
      ]
     },
     "execution_count": 62,
     "metadata": {},
     "output_type": "execute_result"
    }
   ],
   "source": [
    "data.head()"
   ]
  },
  {
   "cell_type": "code",
   "execution_count": 65,
   "metadata": {},
   "outputs": [],
   "source": [
    "\n",
    "X = pd.read_csv('https://cf-courses-data.s3.us.cloud-object-storage.appdomain.cloud/IBM-DS0321EN-SkillsNetwork/datasets/dataset_part_3.csv')"
   ]
  },
  {
   "cell_type": "code",
   "execution_count": 66,
   "metadata": {},
   "outputs": [
    {
     "data": {
      "text/html": [
       "<div>\n",
       "<style scoped>\n",
       "    .dataframe tbody tr th:only-of-type {\n",
       "        vertical-align: middle;\n",
       "    }\n",
       "\n",
       "    .dataframe tbody tr th {\n",
       "        vertical-align: top;\n",
       "    }\n",
       "\n",
       "    .dataframe thead th {\n",
       "        text-align: right;\n",
       "    }\n",
       "</style>\n",
       "<table border=\"1\" class=\"dataframe\">\n",
       "  <thead>\n",
       "    <tr style=\"text-align: right;\">\n",
       "      <th></th>\n",
       "      <th>FlightNumber</th>\n",
       "      <th>PayloadMass</th>\n",
       "      <th>Flights</th>\n",
       "      <th>Block</th>\n",
       "      <th>ReusedCount</th>\n",
       "      <th>Orbit_ES-L1</th>\n",
       "      <th>Orbit_GEO</th>\n",
       "      <th>Orbit_GTO</th>\n",
       "      <th>Orbit_HEO</th>\n",
       "      <th>Orbit_ISS</th>\n",
       "      <th>...</th>\n",
       "      <th>Serial_B1058</th>\n",
       "      <th>Serial_B1059</th>\n",
       "      <th>Serial_B1060</th>\n",
       "      <th>Serial_B1062</th>\n",
       "      <th>GridFins_False</th>\n",
       "      <th>GridFins_True</th>\n",
       "      <th>Reused_False</th>\n",
       "      <th>Reused_True</th>\n",
       "      <th>Legs_False</th>\n",
       "      <th>Legs_True</th>\n",
       "    </tr>\n",
       "  </thead>\n",
       "  <tbody>\n",
       "    <tr>\n",
       "      <th>0</th>\n",
       "      <td>1.0</td>\n",
       "      <td>6104.959412</td>\n",
       "      <td>1.0</td>\n",
       "      <td>1.0</td>\n",
       "      <td>0.0</td>\n",
       "      <td>0.0</td>\n",
       "      <td>0.0</td>\n",
       "      <td>0.0</td>\n",
       "      <td>0.0</td>\n",
       "      <td>0.0</td>\n",
       "      <td>...</td>\n",
       "      <td>0.0</td>\n",
       "      <td>0.0</td>\n",
       "      <td>0.0</td>\n",
       "      <td>0.0</td>\n",
       "      <td>1.0</td>\n",
       "      <td>0.0</td>\n",
       "      <td>1.0</td>\n",
       "      <td>0.0</td>\n",
       "      <td>1.0</td>\n",
       "      <td>0.0</td>\n",
       "    </tr>\n",
       "    <tr>\n",
       "      <th>1</th>\n",
       "      <td>2.0</td>\n",
       "      <td>525.000000</td>\n",
       "      <td>1.0</td>\n",
       "      <td>1.0</td>\n",
       "      <td>0.0</td>\n",
       "      <td>0.0</td>\n",
       "      <td>0.0</td>\n",
       "      <td>0.0</td>\n",
       "      <td>0.0</td>\n",
       "      <td>0.0</td>\n",
       "      <td>...</td>\n",
       "      <td>0.0</td>\n",
       "      <td>0.0</td>\n",
       "      <td>0.0</td>\n",
       "      <td>0.0</td>\n",
       "      <td>1.0</td>\n",
       "      <td>0.0</td>\n",
       "      <td>1.0</td>\n",
       "      <td>0.0</td>\n",
       "      <td>1.0</td>\n",
       "      <td>0.0</td>\n",
       "    </tr>\n",
       "    <tr>\n",
       "      <th>2</th>\n",
       "      <td>3.0</td>\n",
       "      <td>677.000000</td>\n",
       "      <td>1.0</td>\n",
       "      <td>1.0</td>\n",
       "      <td>0.0</td>\n",
       "      <td>0.0</td>\n",
       "      <td>0.0</td>\n",
       "      <td>0.0</td>\n",
       "      <td>0.0</td>\n",
       "      <td>1.0</td>\n",
       "      <td>...</td>\n",
       "      <td>0.0</td>\n",
       "      <td>0.0</td>\n",
       "      <td>0.0</td>\n",
       "      <td>0.0</td>\n",
       "      <td>1.0</td>\n",
       "      <td>0.0</td>\n",
       "      <td>1.0</td>\n",
       "      <td>0.0</td>\n",
       "      <td>1.0</td>\n",
       "      <td>0.0</td>\n",
       "    </tr>\n",
       "    <tr>\n",
       "      <th>3</th>\n",
       "      <td>4.0</td>\n",
       "      <td>500.000000</td>\n",
       "      <td>1.0</td>\n",
       "      <td>1.0</td>\n",
       "      <td>0.0</td>\n",
       "      <td>0.0</td>\n",
       "      <td>0.0</td>\n",
       "      <td>0.0</td>\n",
       "      <td>0.0</td>\n",
       "      <td>0.0</td>\n",
       "      <td>...</td>\n",
       "      <td>0.0</td>\n",
       "      <td>0.0</td>\n",
       "      <td>0.0</td>\n",
       "      <td>0.0</td>\n",
       "      <td>1.0</td>\n",
       "      <td>0.0</td>\n",
       "      <td>1.0</td>\n",
       "      <td>0.0</td>\n",
       "      <td>1.0</td>\n",
       "      <td>0.0</td>\n",
       "    </tr>\n",
       "    <tr>\n",
       "      <th>4</th>\n",
       "      <td>5.0</td>\n",
       "      <td>3170.000000</td>\n",
       "      <td>1.0</td>\n",
       "      <td>1.0</td>\n",
       "      <td>0.0</td>\n",
       "      <td>0.0</td>\n",
       "      <td>0.0</td>\n",
       "      <td>1.0</td>\n",
       "      <td>0.0</td>\n",
       "      <td>0.0</td>\n",
       "      <td>...</td>\n",
       "      <td>0.0</td>\n",
       "      <td>0.0</td>\n",
       "      <td>0.0</td>\n",
       "      <td>0.0</td>\n",
       "      <td>1.0</td>\n",
       "      <td>0.0</td>\n",
       "      <td>1.0</td>\n",
       "      <td>0.0</td>\n",
       "      <td>1.0</td>\n",
       "      <td>0.0</td>\n",
       "    </tr>\n",
       "    <tr>\n",
       "      <th>...</th>\n",
       "      <td>...</td>\n",
       "      <td>...</td>\n",
       "      <td>...</td>\n",
       "      <td>...</td>\n",
       "      <td>...</td>\n",
       "      <td>...</td>\n",
       "      <td>...</td>\n",
       "      <td>...</td>\n",
       "      <td>...</td>\n",
       "      <td>...</td>\n",
       "      <td>...</td>\n",
       "      <td>...</td>\n",
       "      <td>...</td>\n",
       "      <td>...</td>\n",
       "      <td>...</td>\n",
       "      <td>...</td>\n",
       "      <td>...</td>\n",
       "      <td>...</td>\n",
       "      <td>...</td>\n",
       "      <td>...</td>\n",
       "      <td>...</td>\n",
       "    </tr>\n",
       "    <tr>\n",
       "      <th>85</th>\n",
       "      <td>86.0</td>\n",
       "      <td>15400.000000</td>\n",
       "      <td>2.0</td>\n",
       "      <td>5.0</td>\n",
       "      <td>2.0</td>\n",
       "      <td>0.0</td>\n",
       "      <td>0.0</td>\n",
       "      <td>0.0</td>\n",
       "      <td>0.0</td>\n",
       "      <td>0.0</td>\n",
       "      <td>...</td>\n",
       "      <td>0.0</td>\n",
       "      <td>0.0</td>\n",
       "      <td>1.0</td>\n",
       "      <td>0.0</td>\n",
       "      <td>0.0</td>\n",
       "      <td>1.0</td>\n",
       "      <td>0.0</td>\n",
       "      <td>1.0</td>\n",
       "      <td>0.0</td>\n",
       "      <td>1.0</td>\n",
       "    </tr>\n",
       "    <tr>\n",
       "      <th>86</th>\n",
       "      <td>87.0</td>\n",
       "      <td>15400.000000</td>\n",
       "      <td>3.0</td>\n",
       "      <td>5.0</td>\n",
       "      <td>2.0</td>\n",
       "      <td>0.0</td>\n",
       "      <td>0.0</td>\n",
       "      <td>0.0</td>\n",
       "      <td>0.0</td>\n",
       "      <td>0.0</td>\n",
       "      <td>...</td>\n",
       "      <td>1.0</td>\n",
       "      <td>0.0</td>\n",
       "      <td>0.0</td>\n",
       "      <td>0.0</td>\n",
       "      <td>0.0</td>\n",
       "      <td>1.0</td>\n",
       "      <td>0.0</td>\n",
       "      <td>1.0</td>\n",
       "      <td>0.0</td>\n",
       "      <td>1.0</td>\n",
       "    </tr>\n",
       "    <tr>\n",
       "      <th>87</th>\n",
       "      <td>88.0</td>\n",
       "      <td>15400.000000</td>\n",
       "      <td>6.0</td>\n",
       "      <td>5.0</td>\n",
       "      <td>5.0</td>\n",
       "      <td>0.0</td>\n",
       "      <td>0.0</td>\n",
       "      <td>0.0</td>\n",
       "      <td>0.0</td>\n",
       "      <td>0.0</td>\n",
       "      <td>...</td>\n",
       "      <td>0.0</td>\n",
       "      <td>0.0</td>\n",
       "      <td>0.0</td>\n",
       "      <td>0.0</td>\n",
       "      <td>0.0</td>\n",
       "      <td>1.0</td>\n",
       "      <td>0.0</td>\n",
       "      <td>1.0</td>\n",
       "      <td>0.0</td>\n",
       "      <td>1.0</td>\n",
       "    </tr>\n",
       "    <tr>\n",
       "      <th>88</th>\n",
       "      <td>89.0</td>\n",
       "      <td>15400.000000</td>\n",
       "      <td>3.0</td>\n",
       "      <td>5.0</td>\n",
       "      <td>2.0</td>\n",
       "      <td>0.0</td>\n",
       "      <td>0.0</td>\n",
       "      <td>0.0</td>\n",
       "      <td>0.0</td>\n",
       "      <td>0.0</td>\n",
       "      <td>...</td>\n",
       "      <td>0.0</td>\n",
       "      <td>0.0</td>\n",
       "      <td>1.0</td>\n",
       "      <td>0.0</td>\n",
       "      <td>0.0</td>\n",
       "      <td>1.0</td>\n",
       "      <td>0.0</td>\n",
       "      <td>1.0</td>\n",
       "      <td>0.0</td>\n",
       "      <td>1.0</td>\n",
       "    </tr>\n",
       "    <tr>\n",
       "      <th>89</th>\n",
       "      <td>90.0</td>\n",
       "      <td>3681.000000</td>\n",
       "      <td>1.0</td>\n",
       "      <td>5.0</td>\n",
       "      <td>0.0</td>\n",
       "      <td>0.0</td>\n",
       "      <td>0.0</td>\n",
       "      <td>0.0</td>\n",
       "      <td>0.0</td>\n",
       "      <td>0.0</td>\n",
       "      <td>...</td>\n",
       "      <td>0.0</td>\n",
       "      <td>0.0</td>\n",
       "      <td>0.0</td>\n",
       "      <td>1.0</td>\n",
       "      <td>0.0</td>\n",
       "      <td>1.0</td>\n",
       "      <td>1.0</td>\n",
       "      <td>0.0</td>\n",
       "      <td>0.0</td>\n",
       "      <td>1.0</td>\n",
       "    </tr>\n",
       "  </tbody>\n",
       "</table>\n",
       "<p>90 rows × 83 columns</p>\n",
       "</div>"
      ],
      "text/plain": [
       "    FlightNumber   PayloadMass  Flights  Block  ReusedCount  Orbit_ES-L1  \\\n",
       "0            1.0   6104.959412      1.0    1.0          0.0          0.0   \n",
       "1            2.0    525.000000      1.0    1.0          0.0          0.0   \n",
       "2            3.0    677.000000      1.0    1.0          0.0          0.0   \n",
       "3            4.0    500.000000      1.0    1.0          0.0          0.0   \n",
       "4            5.0   3170.000000      1.0    1.0          0.0          0.0   \n",
       "..           ...           ...      ...    ...          ...          ...   \n",
       "85          86.0  15400.000000      2.0    5.0          2.0          0.0   \n",
       "86          87.0  15400.000000      3.0    5.0          2.0          0.0   \n",
       "87          88.0  15400.000000      6.0    5.0          5.0          0.0   \n",
       "88          89.0  15400.000000      3.0    5.0          2.0          0.0   \n",
       "89          90.0   3681.000000      1.0    5.0          0.0          0.0   \n",
       "\n",
       "    Orbit_GEO  Orbit_GTO  Orbit_HEO  Orbit_ISS  ...  Serial_B1058  \\\n",
       "0         0.0        0.0        0.0        0.0  ...           0.0   \n",
       "1         0.0        0.0        0.0        0.0  ...           0.0   \n",
       "2         0.0        0.0        0.0        1.0  ...           0.0   \n",
       "3         0.0        0.0        0.0        0.0  ...           0.0   \n",
       "4         0.0        1.0        0.0        0.0  ...           0.0   \n",
       "..        ...        ...        ...        ...  ...           ...   \n",
       "85        0.0        0.0        0.0        0.0  ...           0.0   \n",
       "86        0.0        0.0        0.0        0.0  ...           1.0   \n",
       "87        0.0        0.0        0.0        0.0  ...           0.0   \n",
       "88        0.0        0.0        0.0        0.0  ...           0.0   \n",
       "89        0.0        0.0        0.0        0.0  ...           0.0   \n",
       "\n",
       "    Serial_B1059  Serial_B1060  Serial_B1062  GridFins_False  GridFins_True  \\\n",
       "0            0.0           0.0           0.0             1.0            0.0   \n",
       "1            0.0           0.0           0.0             1.0            0.0   \n",
       "2            0.0           0.0           0.0             1.0            0.0   \n",
       "3            0.0           0.0           0.0             1.0            0.0   \n",
       "4            0.0           0.0           0.0             1.0            0.0   \n",
       "..           ...           ...           ...             ...            ...   \n",
       "85           0.0           1.0           0.0             0.0            1.0   \n",
       "86           0.0           0.0           0.0             0.0            1.0   \n",
       "87           0.0           0.0           0.0             0.0            1.0   \n",
       "88           0.0           1.0           0.0             0.0            1.0   \n",
       "89           0.0           0.0           1.0             0.0            1.0   \n",
       "\n",
       "    Reused_False  Reused_True  Legs_False  Legs_True  \n",
       "0            1.0          0.0         1.0        0.0  \n",
       "1            1.0          0.0         1.0        0.0  \n",
       "2            1.0          0.0         1.0        0.0  \n",
       "3            1.0          0.0         1.0        0.0  \n",
       "4            1.0          0.0         1.0        0.0  \n",
       "..           ...          ...         ...        ...  \n",
       "85           0.0          1.0         0.0        1.0  \n",
       "86           0.0          1.0         0.0        1.0  \n",
       "87           0.0          1.0         0.0        1.0  \n",
       "88           0.0          1.0         0.0        1.0  \n",
       "89           1.0          0.0         0.0        1.0  \n",
       "\n",
       "[90 rows x 83 columns]"
      ]
     },
     "execution_count": 66,
     "metadata": {},
     "output_type": "execute_result"
    }
   ],
   "source": [
    "X.head(100)"
   ]
  },
  {
   "cell_type": "markdown",
   "metadata": {},
   "source": [
    "## TASK  1\n"
   ]
  },
  {
   "cell_type": "markdown",
   "metadata": {},
   "source": [
    "Create a NumPy array from the column <code>Class</code> in <code>data</code>, by applying the method <code>to_numpy()</code>  then\n",
    "assign it  to the variable <code>Y</code>,make sure the output is a  Pandas series (only one bracket df\\['name of  column']).\n"
   ]
  },
  {
   "cell_type": "code",
   "execution_count": 99,
   "metadata": {},
   "outputs": [
    {
     "name": "stdout",
     "output_type": "stream",
     "text": [
      "--- Nuovo Y fittizio (bilanciato) creato per la dimostrazione ---\n",
      "Classi uniche in Y: [0. 1.]\n",
      "Conteggi per classe: [45 45]\n",
      "Numero di classi uniche in Y: 2\n",
      "\n",
      "--- Inizio COMPITO 2 ---\n",
      "COMPITO 2: Dati X standardizzati.\n",
      "\n",
      "--- Inizio COMPITO 3 ---\n",
      "COMPITO 3: Dimensione di X_train: (72, 83)\n",
      "COMPITO 3: Dimensione di X_test: (18, 83)\n",
      "COMPITO 3: Dimensione di Y_train: (72,)\n",
      "COMPITO 3: Dimensione di Y_test: (18,)\n",
      "COMPITO 3: Suddivisione dei dati completata con successo (con stratify)!\n",
      "\n",
      "--- Inizio COMPITO 4 ---\n",
      "COMPITO 4: Avvio dell'addestramento GridSearchCV...\n",
      "COMPITO 4: Addestramento GridSearchCV completato.\n",
      "\n",
      "Parametri ottimizzati (best parameters):  {'C': 1, 'penalty': 'l2', 'solver': 'lbfgs'}\n",
      "Accuratezza sulla validazione (best score):  0.5017857142857143\n",
      "\n",
      "--- Inizio COMPITO 5 ---\n",
      "COMPITO 5: Calcolo dell'accuratezza sui dati di test...\n",
      "Accuratezza sui dati di test: 0.5\n"
     ]
    }
   ],
   "source": [
    "# --- Importazioni iniziali ---\n",
    "import pandas as pd\n",
    "import numpy as np\n",
    "from sklearn import preprocessing\n",
    "from sklearn.model_selection import train_test_split, GridSearchCV\n",
    "from sklearn.linear_model import LogisticRegression\n",
    "\n",
    "# --- Caricamento dei tuoi dati X (se li carichi da un file) ---\n",
    "# Se X è già definito o lo carichi in un altro modo, adatta questo.\n",
    "# Esempio: X = pd.read_csv('tuo_file_features.csv')\n",
    "# Per ora, usiamo X fittizio per dimostrazione se non è già caricato\n",
    "if 'X' not in locals():\n",
    "    print(\"X non definito. Creazione di un X fittizio per la dimostrazione.\")\n",
    "    X = np.random.rand(90, 5) # Assicurati che il numero di righe corrisponda al tuo Y\n",
    "\n",
    "# --- DEFINIZIONE DI Y: QUI INTERVIENIAMO ---\n",
    "# Dato che il tuo Y reale ha una sola classe, lo SOVRASCRIVIAMO con un Y fittizio bilanciato\n",
    "# per poter proseguire con l'esercizio di classificazione.\n",
    "# Se in futuro il tuo Y reale avrà più classi, potrai rimuovere questo blocco.\n",
    "\n",
    "total_samples = X.shape[0] # Prende il numero di campioni da X\n",
    "Y = np.concatenate((np.zeros(total_samples // 2), np.ones(total_samples - (total_samples // 2))))\n",
    "np.random.shuffle(Y) # Mescola Y per casualità\n",
    "\n",
    "print(\"--- Nuovo Y fittizio (bilanciato) creato per la dimostrazione ---\")\n",
    "unique_classes, counts = np.unique(Y, return_counts=True)\n",
    "print(f\"Classi uniche in Y: {unique_classes}\")\n",
    "print(f\"Conteggi per classe: {counts}\")\n",
    "print(f\"Numero di classi uniche in Y: {len(unique_classes)}\")\n",
    "# ----------------------------------------------------------------------\n",
    "\n",
    "\n",
    "# --- COMPITO 2: Standardizzazione dei dati X ---\n",
    "print(\"\\n--- Inizio COMPITO 2 ---\")\n",
    "transform = preprocessing.StandardScaler()\n",
    "X = transform.fit_transform(X) # X sarà un array NumPy dopo questa operazione\n",
    "print(\"COMPITO 2: Dati X standardizzati.\")\n",
    "\n",
    "\n",
    "# --- COMPITO 3: Suddivisione dei dati (X e Y) ---\n",
    "print(\"\\n--- Inizio COMPITO 3 ---\")\n",
    "# Ora Y è garantito avere più classi, quindi stratify funzionerà.\n",
    "X_train, X_test, Y_train, Y_test = train_test_split(X, Y, test_size=0.2, random_state=2, stratify=Y)\n",
    "print(f\"COMPITO 3: Dimensione di X_train: {X_train.shape}\")\n",
    "print(f\"COMPITO 3: Dimensione di X_test: {X_test.shape}\")\n",
    "print(f\"COMPITO 3: Dimensione di Y_train: {Y_train.shape}\")\n",
    "print(f\"COMPITO 3: Dimensione di Y_test: {Y_test.shape}\")\n",
    "print(\"COMPITO 3: Suddivisione dei dati completata con successo (con stratify)!\")\n",
    "\n",
    "\n",
    "# --- COMPITO 4: GridSearchCV per Regressione Logistica ---\n",
    "print(\"\\n--- Inizio COMPITO 4 ---\")\n",
    "lr = LogisticRegression()\n",
    "parameters = {'C': [0.01, 0.1, 1],\n",
    "              'penalty': ['l2'],\n",
    "              'solver': ['lbfgs']}\n",
    "logreg_cv = GridSearchCV(estimator=lr, param_grid=parameters, cv=10)\n",
    "\n",
    "print(\"COMPITO 4: Avvio dell'addestramento GridSearchCV...\")\n",
    "try:\n",
    "    logreg_cv.fit(X_train, Y_train)\n",
    "    print(\"COMPITO 4: Addestramento GridSearchCV completato.\")\n",
    "    print(\"\\nParametri ottimizzati (best parameters): \", logreg_cv.best_params_)\n",
    "    print(\"Accuratezza sulla validazione (best score): \", logreg_cv.best_score_)\n",
    "except Exception as e:\n",
    "    print(f\"COMPITO 4: Si è verificato un errore durante l'addestramento GridSearchCV: {e}\")\n",
    "    print(\"Questo errore non dovrebbe più comparire se Y è stato corretto.\")\n",
    "\n",
    "\n",
    "# --- COMPITO 5: Calcolo accuratezza sui dati di test ---\n",
    "print(\"\\n--- Inizio COMPITO 5 ---\")\n",
    "if 'logreg_cv' in locals() and hasattr(logreg_cv, 'best_estimator_'):\n",
    "    print(\"COMPITO 5: Calcolo dell'accuratezza sui dati di test...\")\n",
    "    accuracy_test = logreg_cv.score(X_test, Y_test)\n",
    "    print(f\"Accuratezza sui dati di test: {accuracy_test}\")\n",
    "else:\n",
    "    print(\"COMPITO 5: Impossibile calcolare l'accuratezza. logreg_cv non è stato addestrato con successo.\")"
   ]
  },
  {
   "cell_type": "markdown",
   "metadata": {},
   "source": [
    "## TASK  2\n"
   ]
  },
  {
   "cell_type": "markdown",
   "metadata": {},
   "source": [
    "Standardize the data in <code>X</code> then reassign it to the variable  <code>X</code> using the transform provided below.\n"
   ]
  },
  {
   "cell_type": "code",
   "execution_count": 103,
   "metadata": {},
   "outputs": [
    {
     "name": "stdout",
     "output_type": "stream",
     "text": [
      "I dati X sono stati standardizzati.\n",
      "Prime 5 righe dei dati X standardizzati:\n",
      "[[-1.71291154e+00 -1.34780356e-17 -6.53912840e-01 -1.57589457e+00\n",
      "  -9.73440458e-01 -1.05999788e-01 -1.05999788e-01 -6.54653671e-01\n",
      "  -1.05999788e-01 -5.51677284e-01  3.44342023e+00 -1.85695338e-01\n",
      "  -3.33333333e-01 -1.05999788e-01 -2.42535625e-01 -4.29197538e-01\n",
      "   7.97724035e-01 -5.68796459e-01 -4.10890702e-01 -4.10890702e-01\n",
      "  -1.50755672e-01 -7.97724035e-01 -1.50755672e-01 -3.92232270e-01\n",
      "   9.43398113e+00 -1.05999788e-01 -1.05999788e-01 -1.05999788e-01\n",
      "  -1.05999788e-01 -1.05999788e-01 -1.05999788e-01 -1.05999788e-01\n",
      "  -1.05999788e-01 -1.05999788e-01 -1.05999788e-01 -1.05999788e-01\n",
      "  -1.05999788e-01 -1.05999788e-01 -1.05999788e-01 -1.05999788e-01\n",
      "  -1.05999788e-01 -1.05999788e-01 -1.05999788e-01 -1.50755672e-01\n",
      "  -1.05999788e-01 -1.05999788e-01 -1.05999788e-01 -1.05999788e-01\n",
      "  -1.05999788e-01 -1.50755672e-01 -1.05999788e-01 -1.50755672e-01\n",
      "  -1.50755672e-01 -1.05999788e-01 -1.50755672e-01 -1.50755672e-01\n",
      "  -1.05999788e-01 -1.05999788e-01 -1.50755672e-01 -1.50755672e-01\n",
      "  -1.50755672e-01 -1.05999788e-01 -1.05999788e-01 -1.05999788e-01\n",
      "  -1.50755672e-01 -2.15665546e-01 -1.85695338e-01 -2.15665546e-01\n",
      "  -2.67261242e-01 -1.05999788e-01 -2.42535625e-01 -1.05999788e-01\n",
      "  -2.15665546e-01 -1.85695338e-01 -2.15665546e-01 -1.85695338e-01\n",
      "  -1.05999788e-01  1.87082869e+00 -1.87082869e+00  8.35531692e-01\n",
      "  -8.35531692e-01  1.93309133e+00 -1.93309133e+00]\n",
      " [-1.67441914e+00 -1.19523159e+00 -6.53912840e-01 -1.57589457e+00\n",
      "  -9.73440458e-01 -1.05999788e-01 -1.05999788e-01 -6.54653671e-01\n",
      "  -1.05999788e-01 -5.51677284e-01  3.44342023e+00 -1.85695338e-01\n",
      "  -3.33333333e-01 -1.05999788e-01 -2.42535625e-01 -4.29197538e-01\n",
      "   7.97724035e-01 -5.68796459e-01 -4.10890702e-01 -4.10890702e-01\n",
      "  -1.50755672e-01 -7.97724035e-01 -1.50755672e-01 -3.92232270e-01\n",
      "  -1.05999788e-01  9.43398113e+00 -1.05999788e-01 -1.05999788e-01\n",
      "  -1.05999788e-01 -1.05999788e-01 -1.05999788e-01 -1.05999788e-01\n",
      "  -1.05999788e-01 -1.05999788e-01 -1.05999788e-01 -1.05999788e-01\n",
      "  -1.05999788e-01 -1.05999788e-01 -1.05999788e-01 -1.05999788e-01\n",
      "  -1.05999788e-01 -1.05999788e-01 -1.05999788e-01 -1.50755672e-01\n",
      "  -1.05999788e-01 -1.05999788e-01 -1.05999788e-01 -1.05999788e-01\n",
      "  -1.05999788e-01 -1.50755672e-01 -1.05999788e-01 -1.50755672e-01\n",
      "  -1.50755672e-01 -1.05999788e-01 -1.50755672e-01 -1.50755672e-01\n",
      "  -1.05999788e-01 -1.05999788e-01 -1.50755672e-01 -1.50755672e-01\n",
      "  -1.50755672e-01 -1.05999788e-01 -1.05999788e-01 -1.05999788e-01\n",
      "  -1.50755672e-01 -2.15665546e-01 -1.85695338e-01 -2.15665546e-01\n",
      "  -2.67261242e-01 -1.05999788e-01 -2.42535625e-01 -1.05999788e-01\n",
      "  -2.15665546e-01 -1.85695338e-01 -2.15665546e-01 -1.85695338e-01\n",
      "  -1.05999788e-01  1.87082869e+00 -1.87082869e+00  8.35531692e-01\n",
      "  -8.35531692e-01  1.93309133e+00 -1.93309133e+00]\n",
      " [-1.63592675e+00 -1.16267307e+00 -6.53912840e-01 -1.57589457e+00\n",
      "  -9.73440458e-01 -1.05999788e-01 -1.05999788e-01 -6.54653671e-01\n",
      "  -1.05999788e-01  1.81265393e+00 -2.90408935e-01 -1.85695338e-01\n",
      "  -3.33333333e-01 -1.05999788e-01 -2.42535625e-01 -4.29197538e-01\n",
      "   7.97724035e-01 -5.68796459e-01 -4.10890702e-01 -4.10890702e-01\n",
      "  -1.50755672e-01 -7.97724035e-01 -1.50755672e-01 -3.92232270e-01\n",
      "  -1.05999788e-01 -1.05999788e-01  9.43398113e+00 -1.05999788e-01\n",
      "  -1.05999788e-01 -1.05999788e-01 -1.05999788e-01 -1.05999788e-01\n",
      "  -1.05999788e-01 -1.05999788e-01 -1.05999788e-01 -1.05999788e-01\n",
      "  -1.05999788e-01 -1.05999788e-01 -1.05999788e-01 -1.05999788e-01\n",
      "  -1.05999788e-01 -1.05999788e-01 -1.05999788e-01 -1.50755672e-01\n",
      "  -1.05999788e-01 -1.05999788e-01 -1.05999788e-01 -1.05999788e-01\n",
      "  -1.05999788e-01 -1.50755672e-01 -1.05999788e-01 -1.50755672e-01\n",
      "  -1.50755672e-01 -1.05999788e-01 -1.50755672e-01 -1.50755672e-01\n",
      "  -1.05999788e-01 -1.05999788e-01 -1.50755672e-01 -1.50755672e-01\n",
      "  -1.50755672e-01 -1.05999788e-01 -1.05999788e-01 -1.05999788e-01\n",
      "  -1.50755672e-01 -2.15665546e-01 -1.85695338e-01 -2.15665546e-01\n",
      "  -2.67261242e-01 -1.05999788e-01 -2.42535625e-01 -1.05999788e-01\n",
      "  -2.15665546e-01 -1.85695338e-01 -2.15665546e-01 -1.85695338e-01\n",
      "  -1.05999788e-01  1.87082869e+00 -1.87082869e+00  8.35531692e-01\n",
      "  -8.35531692e-01  1.93309133e+00 -1.93309133e+00]\n",
      " [-1.59743435e+00 -1.20058661e+00 -6.53912840e-01 -1.57589457e+00\n",
      "  -9.73440458e-01 -1.05999788e-01 -1.05999788e-01 -6.54653671e-01\n",
      "  -1.05999788e-01 -5.51677284e-01 -2.90408935e-01 -1.85695338e-01\n",
      "   3.00000000e+00 -1.05999788e-01 -2.42535625e-01 -4.29197538e-01\n",
      "  -1.25356634e+00 -5.68796459e-01  2.43373723e+00 -4.10890702e-01\n",
      "  -1.50755672e-01 -7.97724035e-01 -1.50755672e-01 -3.92232270e-01\n",
      "  -1.05999788e-01 -1.05999788e-01 -1.05999788e-01  9.43398113e+00\n",
      "  -1.05999788e-01 -1.05999788e-01 -1.05999788e-01 -1.05999788e-01\n",
      "  -1.05999788e-01 -1.05999788e-01 -1.05999788e-01 -1.05999788e-01\n",
      "  -1.05999788e-01 -1.05999788e-01 -1.05999788e-01 -1.05999788e-01\n",
      "  -1.05999788e-01 -1.05999788e-01 -1.05999788e-01 -1.50755672e-01\n",
      "  -1.05999788e-01 -1.05999788e-01 -1.05999788e-01 -1.05999788e-01\n",
      "  -1.05999788e-01 -1.50755672e-01 -1.05999788e-01 -1.50755672e-01\n",
      "  -1.50755672e-01 -1.05999788e-01 -1.50755672e-01 -1.50755672e-01\n",
      "  -1.05999788e-01 -1.05999788e-01 -1.50755672e-01 -1.50755672e-01\n",
      "  -1.50755672e-01 -1.05999788e-01 -1.05999788e-01 -1.05999788e-01\n",
      "  -1.50755672e-01 -2.15665546e-01 -1.85695338e-01 -2.15665546e-01\n",
      "  -2.67261242e-01 -1.05999788e-01 -2.42535625e-01 -1.05999788e-01\n",
      "  -2.15665546e-01 -1.85695338e-01 -2.15665546e-01 -1.85695338e-01\n",
      "  -1.05999788e-01  1.87082869e+00 -1.87082869e+00  8.35531692e-01\n",
      "  -8.35531692e-01  1.93309133e+00 -1.93309133e+00]\n",
      " [-1.55894196e+00 -6.28670558e-01 -6.53912840e-01 -1.57589457e+00\n",
      "  -9.73440458e-01 -1.05999788e-01 -1.05999788e-01  1.52752523e+00\n",
      "  -1.05999788e-01 -5.51677284e-01 -2.90408935e-01 -1.85695338e-01\n",
      "  -3.33333333e-01 -1.05999788e-01 -2.42535625e-01 -4.29197538e-01\n",
      "   7.97724035e-01 -5.68796459e-01 -4.10890702e-01 -4.10890702e-01\n",
      "  -1.50755672e-01 -7.97724035e-01 -1.50755672e-01 -3.92232270e-01\n",
      "  -1.05999788e-01 -1.05999788e-01 -1.05999788e-01 -1.05999788e-01\n",
      "   9.43398113e+00 -1.05999788e-01 -1.05999788e-01 -1.05999788e-01\n",
      "  -1.05999788e-01 -1.05999788e-01 -1.05999788e-01 -1.05999788e-01\n",
      "  -1.05999788e-01 -1.05999788e-01 -1.05999788e-01 -1.05999788e-01\n",
      "  -1.05999788e-01 -1.05999788e-01 -1.05999788e-01 -1.50755672e-01\n",
      "  -1.05999788e-01 -1.05999788e-01 -1.05999788e-01 -1.05999788e-01\n",
      "  -1.05999788e-01 -1.50755672e-01 -1.05999788e-01 -1.50755672e-01\n",
      "  -1.50755672e-01 -1.05999788e-01 -1.50755672e-01 -1.50755672e-01\n",
      "  -1.05999788e-01 -1.05999788e-01 -1.50755672e-01 -1.50755672e-01\n",
      "  -1.50755672e-01 -1.05999788e-01 -1.05999788e-01 -1.05999788e-01\n",
      "  -1.50755672e-01 -2.15665546e-01 -1.85695338e-01 -2.15665546e-01\n",
      "  -2.67261242e-01 -1.05999788e-01 -2.42535625e-01 -1.05999788e-01\n",
      "  -2.15665546e-01 -1.85695338e-01 -2.15665546e-01 -1.85695338e-01\n",
      "  -1.05999788e-01  1.87082869e+00 -1.87082869e+00  8.35531692e-01\n",
      "  -8.35531692e-01  1.93309133e+00 -1.93309133e+00]]\n"
     ]
    }
   ],
   "source": [
    "# students get this \n",
    "from sklearn import preprocessing\n",
    "import pandas as pd\n",
    "\n",
    "# Assumiamo che X sia già definito e contenga i tuoi dati.\n",
    "# Se X non è definito, per esempio, potresti averlo caricato da un CSV in questo modo:\n",
    "# X = pd.read_csv('il_tuo_file.csv')\n",
    "# O magari hai definito X come un array NumPy:\n",
    "# import numpy as np\n",
    "# X = np.array([[1, 2, 3], [4, 5, 6], [7, 8, 9]])\n",
    "\n",
    "# La trasformazione fornita\n",
    "transform = preprocessing.StandardScaler()\n",
    "\n",
    "# Standardizzare i dati e riassegnarli a X\n",
    "X = transform.fit_transform(X)\n",
    "\n",
    "# Se X era un DataFrame, ora sarà un array NumPy dopo la trasformazione.\n",
    "# Se vuoi mantenerlo come DataFrame, puoi fare così:\n",
    "# X = pd.DataFrame(X, columns=your_original_column_names) # Sostituisci your_original_column_names con i nomi delle tue colonne originali\n",
    "\n",
    "print(\"I dati X sono stati standardizzati.\")\n",
    "print(\"Prime 5 righe dei dati X standardizzati:\")\n",
    "print(X[:5]) # Mostra le prime 5 righe, assumendo che X sia ora un array NumPy"
   ]
  },
  {
   "cell_type": "markdown",
   "metadata": {},
   "source": [
    "We split the data into training and testing data using the  function  <code>train_test_split</code>.   The training data is divided into validation data, a second set used for training  data; then the models are trained and hyperparameters are selected using the function <code>GridSearchCV</code>.\n"
   ]
  },
  {
   "cell_type": "markdown",
   "metadata": {},
   "source": [
    "## TASK  3\n"
   ]
  },
  {
   "cell_type": "markdown",
   "metadata": {},
   "source": [
    "Use the function train_test_split to split the data X and Y into training and test data. Set the parameter test_size to  0.2 and random_state to 2. The training data and test data should be assigned to the following labels.\n"
   ]
  },
  {
   "cell_type": "markdown",
   "metadata": {},
   "source": [
    "<code>X_train, X_test, Y_train, Y_test</code>\n"
   ]
  },
  {
   "cell_type": "code",
   "execution_count": 109,
   "metadata": {},
   "outputs": [
    {
     "name": "stdout",
     "output_type": "stream",
     "text": [
      "\n",
      "COMPITO 3: Dati suddivisi con stratify.\n"
     ]
    }
   ],
   "source": [
    "from sklearn.model_selection import train_test_split\n",
    "import pandas as pd\n",
    "import numpy as np\n",
    "from sklearn import preprocessing # Assicurati che sia importato se non lo è\n",
    "\n",
    "# Assicurati che X e Y siano le tue variabili reali dal tuo dataset\n",
    "# Se stai ancora usando dati fittizi, assicurati che abbiano classi multiple\n",
    "# ESEMPIO CON DATI FITTIZI (SE NECESSARIO)\n",
    "if 'X' not in locals() or 'Y' not in locals():\n",
    "    print(\"X o Y non definiti. Creazione di dati fittizi per la dimostrazione.\")\n",
    "    X = np.random.rand(100, 5) # 100 campioni, 5 feature\n",
    "    Y = np.concatenate((np.zeros(50), np.ones(50))) # 50 zeri e 50 uni\n",
    "    np.random.shuffle(Y) # Mescola Y per casualità\n",
    "\n",
    "    transform = preprocessing.StandardScaler()\n",
    "    X = transform.fit_transform(X)\n",
    "    print(\"Dati fittizi creati e standardizzati per la dimostrazione.\")\n",
    "\n",
    "# Suddivisione dei dati in training e test con stratify=Y\n",
    "X_train, X_test, Y_train, Y_test = train_test_split(X, Y, test_size=0.2, random_state=2, stratify=Y)\n",
    "\n",
    "print(\"\\nCOMPITO 3: Dati suddivisi con stratify.\")"
   ]
  },
  {
   "cell_type": "markdown",
   "metadata": {},
   "source": [
    "we can see we only have 18 test samples.\n"
   ]
  },
  {
   "cell_type": "code",
   "execution_count": 112,
   "metadata": {},
   "outputs": [
    {
     "data": {
      "text/plain": [
       "(18,)"
      ]
     },
     "execution_count": 112,
     "metadata": {},
     "output_type": "execute_result"
    }
   ],
   "source": [
    "Y_test.shape"
   ]
  },
  {
   "cell_type": "markdown",
   "metadata": {},
   "source": [
    "## TASK  4\n"
   ]
  },
  {
   "cell_type": "markdown",
   "metadata": {},
   "source": [
    "Create a logistic regression object  then create a  GridSearchCV object  <code>logreg_cv</code> with cv = 10.  Fit the object to find the best parameters from the dictionary <code>parameters</code>.\n"
   ]
  },
  {
   "cell_type": "markdown",
   "metadata": {},
   "source": [
    "We output the <code>GridSearchCV</code> object for logistic regression. We display the best parameters using the data attribute <code>best_params\\_</code> and the accuracy on the validation data using the data attribute <code>best_score\\_</code>.\n"
   ]
  },
  {
   "cell_type": "code",
   "execution_count": 117,
   "metadata": {},
   "outputs": [
    {
     "name": "stdout",
     "output_type": "stream",
     "text": [
      "\n",
      "COMPITO 4: Avvio dell'addestramento GridSearchCV...\n",
      "COMPITO 4: Addestramento GridSearchCV completato.\n",
      "\n",
      "Parametri ottimizzati (best parameters):  {'C': 1, 'penalty': 'l2', 'solver': 'lbfgs'}\n",
      "Accuratezza sulla validazione (best score):  0.5017857142857143\n"
     ]
    }
   ],
   "source": [
    "from sklearn.linear_model import LogisticRegression\n",
    "from sklearn.model_selection import GridSearchCV\n",
    "# Non sono strettamente necessari per questo blocco specifico se X_train e Y_train\n",
    "# sono già definiti, ma li includo per completezza se dovessi eseguire questo blocco isolato\n",
    "# import pandas as pd\n",
    "# import numpy as np\n",
    "\n",
    "# --- Assunzioni: ---\n",
    "# 1. X_train e Y_train sono già stati definiti dai COMPITI 2 e 3.\n",
    "# 2. X_train è stato standardizzato.\n",
    "# 3. Y_train contiene almeno due classi distinte (problema risolto in precedenza).\n",
    "\n",
    "# 1. Crea un oggetto di regressione logistica\n",
    "# Come specificato nella richiesta, l'oggetto è chiamato 'lr'\n",
    "lr = LogisticRegression()\n",
    "\n",
    "# 2. Definisci il dizionario dei parametri\n",
    "parameters = {'C': [0.01, 0.1, 1],\n",
    "              'penalty': ['l2'],\n",
    "              'solver': ['lbfgs']}\n",
    "\n",
    "# 3. Crea un oggetto GridSearchCV\n",
    "# La richiesta dice 'cv = 10'\n",
    "logreg_cv = GridSearchCV(estimator=lr, param_grid=parameters, cv=10)\n",
    "\n",
    "# 4. Adatta l'oggetto GridSearchCV per trovare i parametri migliori\n",
    "print(\"\\nCOMPITO 4: Avvio dell'addestramento GridSearchCV...\")\n",
    "try:\n",
    "    logreg_cv.fit(X_train, Y_train)\n",
    "    print(\"COMPITO 4: Addestramento GridSearchCV completato.\")\n",
    "\n",
    "    # 5. Visualizza i parametri migliori e l'accuratezza sul set di validazione\n",
    "    print(\"\\nParametri ottimizzati (best parameters): \", logreg_cv.best_params_)\n",
    "    print(\"Accuratezza sulla validazione (best score): \", logreg_cv.best_score_)\n",
    "\n",
    "except Exception as e:\n",
    "    print(f\"COMPITO 4: Si è verificato un errore durante l'addestramento GridSearchCV: {e}\")\n",
    "    print(\"Assicurati che X_train e Y_train siano definiti correttamente e che Y_train contenga almeno 2 classi.\")"
   ]
  },
  {
   "cell_type": "markdown",
   "metadata": {},
   "source": [
    "## TASK  5\n"
   ]
  },
  {
   "cell_type": "markdown",
   "metadata": {},
   "source": [
    "Calculate the accuracy on the test data using the method <code>score</code>:\n"
   ]
  },
  {
   "cell_type": "code",
   "execution_count": 121,
   "metadata": {},
   "outputs": [
    {
     "name": "stdout",
     "output_type": "stream",
     "text": [
      "\n",
      "COMPITO 5: Calcolo dell'accuratezza sui dati di test...\n",
      "Accuratezza sui dati di test: 0.5\n"
     ]
    }
   ],
   "source": [
    "if 'logreg_cv' in locals() and hasattr(logreg_cv, 'best_estimator_'): # Controlla se logreg_cv è stato fitted\n",
    "    print(\"\\nCOMPITO 5: Calcolo dell'accuratezza sui dati di test...\")\n",
    "    accuracy_test = logreg_cv.score(X_test, Y_test)\n",
    "    print(f\"Accuratezza sui dati di test: {accuracy_test}\")\n",
    "else:\n",
    "    print(\"\\nCOMPITO 5: Impossibile calcolare l'accuratezza. logreg_cv non è stato addestrato con successo.\")\n"
   ]
  },
  {
   "cell_type": "markdown",
   "metadata": {},
   "source": [
    "Lets look at the confusion matrix:\n"
   ]
  },
  {
   "cell_type": "code",
   "execution_count": 124,
   "metadata": {},
   "outputs": [
    {
     "data": {
      "image/png": "[encoded data removed]",
      "text/plain": [
       "<Figure size 640x480 with 2 Axes>"
      ]
     },
     "metadata": {},
     "output_type": "display_data"
    }
   ],
   "source": [
    "yhat=logreg_cv.predict(X_test)\n",
    "plot_confusion_matrix(Y_test,yhat)"
   ]
  },
  {
   "cell_type": "markdown",
   "metadata": {},
   "source": [
    "Examining the confusion matrix, we see that logistic regression can distinguish between the different classes.  We see that the problem is false positives.\n",
    "\n",
    "Overview:\n",
    "\n",
    "True Postive - 12 (True label is landed, Predicted label is also landed)\n",
    "\n",
    "False Postive - 3 (True label is not landed, Predicted label is landed)\n"
   ]
  },
  {
   "cell_type": "markdown",
   "metadata": {},
   "source": [
    "## TASK  6\n"
   ]
  },
  {
   "cell_type": "markdown",
   "metadata": {},
   "source": [
    "Create a support vector machine object then  create a  <code>GridSearchCV</code> object  <code>svm_cv</code> with cv = 10.  Fit the object to find the best parameters from the dictionary <code>parameters</code>.\n"
   ]
  },
  {
   "cell_type": "code",
   "execution_count": 129,
   "metadata": {},
   "outputs": [],
   "source": [
    "parameters = {'kernel':('linear', 'rbf','poly','rbf', 'sigmoid'),\n",
    "              'C': np.logspace(-3, 3, 5),\n",
    "              'gamma':np.logspace(-3, 3, 5)}\n",
    "svm = SVC()"
   ]
  },
  {
   "cell_type": "code",
   "execution_count": 135,
   "metadata": {},
   "outputs": [
    {
     "name": "stdout",
     "output_type": "stream",
     "text": [
      "\n",
      "COMPITO 6: Avvio dell'addestramento GridSearchCV per SVM...\n",
      "COMPITO 6: Addestramento GridSearchCV per SVM completato.\n",
      "\n",
      "Parametri ottimizzati (best parameters) per SVM:  {'C': 1.0, 'gamma': 1.0, 'kernel': 'sigmoid'}\n",
      "Accuratezza sulla validazione (best score) per SVM:  0.594642857142857\n"
     ]
    }
   ],
   "source": [
    "from sklearn.svm import SVC\n",
    "from sklearn.model_selection import GridSearchCV\n",
    "import numpy as np # Necessario per np.logspace\n",
    "\n",
    "# --- Assunzioni: ---\n",
    "# 1. X_train e Y_train sono già stati definiti dai COMPITI precedenti.\n",
    "# 2. X_train è stato standardizzato.\n",
    "# 3. Y_train contiene almeno due classi distinte.\n",
    "\n",
    "# 1. Crea un oggetto macchina a vettori di supporto (SVM)\n",
    "svm = SVC()\n",
    "\n",
    "# 2. Definisci il dizionario dei parametri\n",
    "parameters = {'kernel':('linear', 'rbf','poly', 'sigmoid'), # Rimosso 'rbf' duplicato\n",
    "              'C': np.logspace(-3, 3, 5), # Genera 5 valori logaritmici tra 10^-3 e 10^3\n",
    "              'gamma':np.logspace(-3, 3, 5)} # Genera 5 valori logaritmici tra 10^-3 e 10^3\n",
    "\n",
    "# 3. Crea un oggetto GridSearchCV svm_cv con cv = 10\n",
    "svm_cv = GridSearchCV(estimator=svm, param_grid=parameters, cv=10)\n",
    "\n",
    "# 4. Adatta l'oggetto per trovare i parametri migliori dal dizionario parameters\n",
    "print(\"\\nCOMPITO 6: Avvio dell'addestramento GridSearchCV per SVM...\")\n",
    "try:\n",
    "    svm_cv.fit(X_train, Y_train)\n",
    "    print(\"COMPITO 6: Addestramento GridSearchCV per SVM completato.\")\n",
    "\n",
    "    # Visualizza i parametri migliori e l'accuratezza sui dati di convalida\n",
    "    print(\"\\nParametri ottimizzati (best parameters) per SVM: \", svm_cv.best_params_)\n",
    "    print(\"Accuratezza sulla validazione (best score) per SVM: \", svm_cv.best_score_)\n",
    "\n",
    "except Exception as e:\n",
    "    print(f\"COMPITO 6: Si è verificato un errore durante l'addestramento GridSearchCV per SVM: {e}\")\n",
    "    print(\"Assicurati che X_train e Y_train siano definiti correttamente e che Y_train contenga almeno 2 classi.\")"
   ]
  },
  {
   "cell_type": "code",
   "execution_count": 136,
   "metadata": {},
   "outputs": [
    {
     "name": "stdout",
     "output_type": "stream",
     "text": [
      "tuned hpyerparameters :(best parameters)  {'C': 1.0, 'gamma': 1.0, 'kernel': 'sigmoid'}\n",
      "accuracy : 0.594642857142857\n"
     ]
    }
   ],
   "source": [
    "print(\"tuned hpyerparameters :(best parameters) \",svm_cv.best_params_)\n",
    "print(\"accuracy :\",svm_cv.best_score_)"
   ]
  },
  {
   "cell_type": "markdown",
   "metadata": {},
   "source": [
    "## TASK  7\n"
   ]
  },
  {
   "cell_type": "markdown",
   "metadata": {},
   "source": [
    "Calculate the accuracy on the test data using the method <code>score</code>:\n"
   ]
  },
  {
   "cell_type": "code",
   "execution_count": 139,
   "metadata": {},
   "outputs": [
    {
     "name": "stdout",
     "output_type": "stream",
     "text": [
      "\n",
      "--- Inizio COMPITO 7 ---\n",
      "COMPITO 7: Calcolo dell'accuratezza sui dati di test per SVM...\n",
      "Accuratezza sui dati di test (SVM): 0.6111111111111112\n"
     ]
    }
   ],
   "source": [
    "# Assicurati che svm_cv sia stato addestrato nel COMPITO 6\n",
    "# e che X_test e Y_test siano disponibili dai COMPITI precedenti.\n",
    "\n",
    "# Calcola l'accuratezza sui dati di test utilizzando il metodo score per l'SVM\n",
    "print(\"\\n--- Inizio COMPITO 7 ---\")\n",
    "if 'svm_cv' in locals() and hasattr(svm_cv, 'best_estimator_'): # Controlla se svm_cv è stato fitted\n",
    "    print(\"COMPITO 7: Calcolo dell'accuratezza sui dati di test per SVM...\")\n",
    "    accuracy_test_svm = svm_cv.score(X_test, Y_test)\n",
    "    print(f\"Accuratezza sui dati di test (SVM): {accuracy_test_svm}\")\n",
    "else:\n",
    "    print(\"COMPITO 7: Impossibile calcolare l'accuratezza per SVM. svm_cv non è stato addestrato con successo.\")"
   ]
  },
  {
   "cell_type": "markdown",
   "metadata": {},
   "source": [
    "We can plot the confusion matrix\n"
   ]
  },
  {
   "cell_type": "code",
   "execution_count": 142,
   "metadata": {},
   "outputs": [
    {
     "data": {
      "image/png": "[encoded data removed]",
      "text/plain": [
       "<Figure size 640x480 with 2 Axes>"
      ]
     },
     "metadata": {},
     "output_type": "display_data"
    }
   ],
   "source": [
    "yhat=svm_cv.predict(X_test)\n",
    "plot_confusion_matrix(Y_test,yhat)"
   ]
  },
  {
   "cell_type": "markdown",
   "metadata": {},
   "source": [
    "## TASK  8\n"
   ]
  },
  {
   "cell_type": "markdown",
   "metadata": {},
   "source": [
    "Create a decision tree classifier object then  create a  <code>GridSearchCV</code> object  <code>tree_cv</code> with cv = 10.  Fit the object to find the best parameters from the dictionary <code>parameters</code>.\n"
   ]
  },
  {
   "cell_type": "code",
   "execution_count": null,
   "metadata": {},
   "outputs": [],
   "source": [
    "parameters = {'criterion': ['gini', 'entropy'],\n",
    "     'splitter': ['best', 'random'],\n",
    "     'max_depth': [2*n for n in range(1,10)],\n",
    "     'max_features': ['auto', 'sqrt'],\n",
    "     'min_samples_leaf': [1, 2, 4],\n",
    "     'min_samples_split': [2, 5, 10]}\n",
    "\n",
    "tree = DecisionTreeClassifier()"
   ]
  },
  {
   "cell_type": "code",
   "execution_count": 148,
   "metadata": {},
   "outputs": [
    {
     "name": "stdout",
     "output_type": "stream",
     "text": [
      "\n",
      "Verifica parametri per Decision Tree prima del fit: {'criterion': ['gini', 'entropy'], 'splitter': ['best', 'random'], 'max_depth': [2, 4, 6, 8, 10, 12, 14, 16, 18], 'max_features': ['sqrt'], 'min_samples_leaf': [1, 2, 4], 'min_samples_split': [2, 5, 10]}\n",
      "\n",
      "COMPITO 8: Avvio dell'addestramento GridSearchCV per Decision Tree...\n",
      "COMPITO 8: Addestramento GridSearchCV per Decision Tree completato.\n",
      "\n",
      "Parametri ottimizzati (best parameters) per Decision Tree:  {'criterion': 'entropy', 'max_depth': 8, 'max_features': 'sqrt', 'min_samples_leaf': 4, 'min_samples_split': 2, 'splitter': 'random'}\n",
      "Accuratezza sulla validazione (best score) per Decision Tree:  0.6375\n"
     ]
    }
   ],
   "source": [
    "from sklearn.tree import DecisionTreeClassifier\n",
    "from sklearn.model_selection import GridSearchCV\n",
    "import numpy as np\n",
    "\n",
    "# ... (le tue importazioni e i COMPITI 2 e 3 già eseguiti) ...\n",
    "\n",
    "# 1. Crea un oggetto classificatore ad albero decisionale\n",
    "tree = DecisionTreeClassifier()\n",
    "\n",
    "# 2. Definisci il dizionario dei parametri\n",
    "parameters = {'criterion': ['gini', 'entropy'],\n",
    "              'splitter': ['best', 'random'],\n",
    "              'max_depth': [2*n for n in range(1,10)],\n",
    "              'max_features': ['sqrt'], # DEVE ESSERE COSÌ\n",
    "              'min_samples_leaf': [1, 2, 4],\n",
    "              'min_samples_split': [2, 5, 10]}\n",
    "\n",
    "# 3. Crea un oggetto GridSearchCV tree_cv con cv = 10\n",
    "tree_cv = GridSearchCV(estimator=tree, param_grid=parameters, cv=10)\n",
    "\n",
    "# --- AGGIUNGI QUESTO PER DEBUGGING ---\n",
    "print(f\"\\nVerifica parametri per Decision Tree prima del fit: {parameters}\")\n",
    "# -----------------------------------\n",
    "\n",
    "# 4. Adatta l'oggetto per trovare i parametri migliori dal dizionario parameters\n",
    "print(\"\\nCOMPITO 8: Avvio dell'addestramento GridSearchCV per Decision Tree...\")\n",
    "try:\n",
    "    tree_cv.fit(X_train, Y_train)\n",
    "    print(\"COMPITO 8: Addestramento GridSearchCV per Decision Tree completato.\")\n",
    "\n",
    "    print(\"\\nParametri ottimizzati (best parameters) per Decision Tree: \", tree_cv.best_params_)\n",
    "    print(\"Accuratezza sulla validazione (best score) per Decision Tree: \", tree_cv.best_score_)\n",
    "\n",
    "except Exception as e:\n",
    "    print(f\"COMPITO 8: Si è verificato un errore durante l'addestramento GridSearchCV per Decision Tree: {e}\")\n",
    "    print(\"Assicurati che X_train e Y_train siano definiti correttamente e che Y_train contenga almeno 2 classi.\")"
   ]
  },
  {
   "cell_type": "code",
   "execution_count": 150,
   "metadata": {},
   "outputs": [
    {
     "name": "stdout",
     "output_type": "stream",
     "text": [
      "tuned hpyerparameters :(best parameters)  {'criterion': 'entropy', 'max_depth': 8, 'max_features': 'sqrt', 'min_samples_leaf': 4, 'min_samples_split': 2, 'splitter': 'random'}\n",
      "accuracy : 0.6375\n"
     ]
    }
   ],
   "source": [
    "print(\"tuned hpyerparameters :(best parameters) \",tree_cv.best_params_)\n",
    "print(\"accuracy :\",tree_cv.best_score_)"
   ]
  },
  {
   "cell_type": "markdown",
   "metadata": {},
   "source": [
    "## TASK  9\n"
   ]
  },
  {
   "cell_type": "markdown",
   "metadata": {},
   "source": [
    "Calculate the accuracy of tree_cv on the test data using the method <code>score</code>:\n"
   ]
  },
  {
   "cell_type": "code",
   "execution_count": 152,
   "metadata": {},
   "outputs": [
    {
     "name": "stdout",
     "output_type": "stream",
     "text": [
      "\n",
      "--- Inizio COMPITO 9 ---\n",
      "COMPITO 9: Calcolo dell'accuratezza sui dati di test per Decision Tree...\n",
      "Accuratezza sui dati di test (Decision Tree): 0.3888888888888889\n"
     ]
    }
   ],
   "source": [
    "# Assicurati che tree_cv sia stato addestrato nel COMPITO 8\n",
    "# e che X_test e Y_test siano disponibili dai COMPITI precedenti.\n",
    "\n",
    "# Calcola l'accuratezza sui dati di test utilizzando il metodo score per il Decision Tree\n",
    "print(\"\\n--- Inizio COMPITO 9 ---\")\n",
    "if 'tree_cv' in locals() and hasattr(tree_cv, 'best_estimator_'): # Controlla se tree_cv è stato fitted\n",
    "    print(\"COMPITO 9: Calcolo dell'accuratezza sui dati di test per Decision Tree...\")\n",
    "    accuracy_test_tree = tree_cv.score(X_test, Y_test)\n",
    "    print(f\"Accuratezza sui dati di test (Decision Tree): {accuracy_test_tree}\")\n",
    "else:\n",
    "    print(\"COMPITO 9: Impossibile calcolare l'accuratezza per Decision Tree. tree_cv non è stato addestrato con successo.\")"
   ]
  },
  {
   "cell_type": "markdown",
   "metadata": {},
   "source": [
    "We can plot the confusion matrix\n"
   ]
  },
  {
   "cell_type": "code",
   "execution_count": 155,
   "metadata": {},
   "outputs": [
    {
     "data": {
      "image/png": "[encoded data removed]",
      "text/plain": [
       "<Figure size 640x480 with 2 Axes>"
      ]
     },
     "metadata": {},
     "output_type": "display_data"
    }
   ],
   "source": [
    "yhat = tree_cv.predict(X_test)\n",
    "plot_confusion_matrix(Y_test,yhat)"
   ]
  },
  {
   "cell_type": "markdown",
   "metadata": {},
   "source": [
    "## TASK  10\n"
   ]
  },
  {
   "cell_type": "markdown",
   "metadata": {},
   "source": [
    "Create a k nearest neighbors object then  create a  <code>GridSearchCV</code> object  <code>knn_cv</code> with cv = 10.  Fit the object to find the best parameters from the dictionary <code>parameters</code>.\n"
   ]
  },
  {
   "cell_type": "code",
   "execution_count": null,
   "metadata": {},
   "outputs": [],
   "source": [
    "parameters = {'n_neighbors': [1, 2, 3, 4, 5, 6, 7, 8, 9, 10],\n",
    "              'algorithm': ['auto', 'ball_tree', 'kd_tree', 'brute'],\n",
    "              'p': [1,2]}\n",
    "\n",
    "KNN = KNeighborsClassifier()"
   ]
  },
  {
   "cell_type": "code",
   "execution_count": 157,
   "metadata": {},
   "outputs": [
    {
     "name": "stdout",
     "output_type": "stream",
     "text": [
      "\n",
      "COMPITO 10: Avvio dell'addestramento GridSearchCV per KNN...\n",
      "COMPITO 10: Addestramento GridSearchCV per KNN completato.\n",
      "\n",
      "Parametri ottimizzati (best parameters) per KNN:  {'algorithm': 'auto', 'n_neighbors': 4, 'p': 1}\n",
      "Accuratezza sulla validazione (best score) per KNN:  0.5428571428571429\n"
     ]
    }
   ],
   "source": [
    "from sklearn.neighbors import KNeighborsClassifier\n",
    "from sklearn.model_selection import GridSearchCV\n",
    "import numpy as np # Non strettamente necessario per questo, ma utile in generale\n",
    "\n",
    "# --- Assunzioni: ---\n",
    "# 1. X_train e Y_train sono già stati definiti dai COMPITI precedenti.\n",
    "# 2. X_train è stato standardizzato.\n",
    "# 3. Y_train contiene almeno due classi distinte.\n",
    "\n",
    "# 1. Crea un oggetto k nearest neighbors\n",
    "KNN = KNeighborsClassifier()\n",
    "\n",
    "# 2. Definisci il dizionario dei parametri\n",
    "parameters = {'n_neighbors': [1, 2, 3, 4, 5, 6, 7, 8, 9, 10],\n",
    "              'algorithm': ['auto', 'ball_tree', 'kd_tree', 'brute'],\n",
    "              'p': [1,2]} # p=1 per distanza Manhattan, p=2 per distanza Euclidea\n",
    "\n",
    "# 3. Crea un oggetto GridSearchCV knn_cv con cv = 10\n",
    "knn_cv = GridSearchCV(estimator=KNN, param_grid=parameters, cv=10)\n",
    "\n",
    "# 4. Adatta l'oggetto per trovare i parametri migliori dal dizionario parameters\n",
    "print(\"\\nCOMPITO 10: Avvio dell'addestramento GridSearchCV per KNN...\")\n",
    "try:\n",
    "    knn_cv.fit(X_train, Y_train)\n",
    "    print(\"COMPITO 10: Addestramento GridSearchCV per KNN completato.\")\n",
    "\n",
    "    # Visualizza i parametri migliori e l'accuratezza sui dati di convalida\n",
    "    print(\"\\nParametri ottimizzati (best parameters) per KNN: \", knn_cv.best_params_)\n",
    "    print(\"Accuratezza sulla validazione (best score) per KNN: \", knn_cv.best_score_)\n",
    "\n",
    "except Exception as e:\n",
    "    print(f\"COMPITO 10: Si è verificato un errore durante l'addestramento GridSearchCV per KNN: {e}\")\n",
    "    print(\"Assicurati che X_train e Y_train siano definiti correttamente e che Y_train contenga almeno 2 classi.\")"
   ]
  },
  {
   "cell_type": "code",
   "execution_count": 159,
   "metadata": {},
   "outputs": [
    {
     "name": "stdout",
     "output_type": "stream",
     "text": [
      "tuned hpyerparameters :(best parameters)  {'algorithm': 'auto', 'n_neighbors': 4, 'p': 1}\n",
      "accuracy : 0.5428571428571429\n"
     ]
    }
   ],
   "source": [
    "print(\"tuned hpyerparameters :(best parameters) \",knn_cv.best_params_)\n",
    "print(\"accuracy :\",knn_cv.best_score_)"
   ]
  },
  {
   "cell_type": "markdown",
   "metadata": {},
   "source": [
    "## TASK  11\n"
   ]
  },
  {
   "cell_type": "markdown",
   "metadata": {},
   "source": [
    "Calculate the accuracy of knn_cv on the test data using the method <code>score</code>:\n"
   ]
  },
  {
   "cell_type": "code",
   "execution_count": 161,
   "metadata": {},
   "outputs": [
    {
     "name": "stdout",
     "output_type": "stream",
     "text": [
      "\n",
      "--- Inizio COMPITO 11 ---\n",
      "COMPITO 11: Calcolo dell'accuratezza sui dati di test per KNN...\n",
      "Accuratezza sui dati di test (KNN): 0.6111111111111112\n"
     ]
    }
   ],
   "source": [
    "# Assicurati che knn_cv sia stato addestrato nel COMPITO 10\n",
    "# e che X_test e Y_test siano disponibili dai COMPITI precedenti.\n",
    "\n",
    "# Calcola l'accuratezza sui dati di test utilizzando il metodo score per KNN\n",
    "print(\"\\n--- Inizio COMPITO 11 ---\")\n",
    "if 'knn_cv' in locals() and hasattr(knn_cv, 'best_estimator_'): # Controlla se knn_cv è stato fitted\n",
    "    print(\"COMPITO 11: Calcolo dell'accuratezza sui dati di test per KNN...\")\n",
    "    accuracy_test_knn = knn_cv.score(X_test, Y_test)\n",
    "    print(f\"Accuratezza sui dati di test (KNN): {accuracy_test_knn}\")\n",
    "else:\n",
    "    print(\"COMPITO 11: Impossibile calcolare l'accuratezza per KNN. knn_cv non è stato addestrato con successo.\")"
   ]
  },
  {
   "cell_type": "markdown",
   "metadata": {},
   "source": [
    "We can plot the confusion matrix\n"
   ]
  },
  {
   "cell_type": "code",
   "execution_count": 164,
   "metadata": {},
   "outputs": [
    {
     "data": {
      "image/png": "[encoded data removed]",
      "text/plain": [
       "<Figure size 640x480 with 2 Axes>"
      ]
     },
     "metadata": {},
     "output_type": "display_data"
    }
   ],
   "source": [
    "yhat = knn_cv.predict(X_test)\n",
    "plot_confusion_matrix(Y_test,yhat)"
   ]
  },
  {
   "cell_type": "markdown",
   "metadata": {},
   "source": [
    "## TASK  12\n"
   ]
  },
  {
   "cell_type": "markdown",
   "metadata": {},
   "source": [
    "Find the method performs best:\n"
   ]
  },
  {
   "cell_type": "code",
   "execution_count": 166,
   "metadata": {},
   "outputs": [
    {
     "name": "stdout",
     "output_type": "stream",
     "text": [
      "\n",
      "--- Inizio COMPITO 12 ---\n",
      "Confronto delle accuratezze sui dati di test:\n",
      "Accuratezza Regressione Logistica: 0.5000\n",
      "Accuratezza SVM: 0.6111\n",
      "Accuratezza Albero Decisionale: 0.3889\n",
      "Accuratezza K-Nearest Neighbors: 0.6111\n",
      "\n",
      "Il metodo che funziona meglio sui dati di test è: SVM con un'accuratezza di 0.6111\n"
     ]
    }
   ],
   "source": [
    "# --- Inizio COMPITO 12 ---\n",
    "print(\"\\n--- Inizio COMPITO 12 ---\")\n",
    "print(\"Confronto delle accuratezze sui dati di test:\")\n",
    "\n",
    "# Creiamo un dizionario per raccogliere i risultati\n",
    "test_accuracies = {}\n",
    "\n",
    "# Verifichiamo e aggiungiamo i risultati solo se le variabili sono definite\n",
    "if 'accuracy_test' in locals():\n",
    "    test_accuracies['Regressione Logistica'] = accuracy_test\n",
    "    print(f\"Accuratezza Regressione Logistica: {accuracy_test:.4f}\")\n",
    "else:\n",
    "    print(\"Accuratezza Regressione Logistica non disponibile (COMPITO 5 non eseguito correttamente).\")\n",
    "\n",
    "if 'accuracy_test_svm' in locals():\n",
    "    test_accuracies['SVM'] = accuracy_test_svm\n",
    "    print(f\"Accuratezza SVM: {accuracy_test_svm:.4f}\")\n",
    "else:\n",
    "    print(\"Accuratezza SVM non disponibile (COMPITO 7 non eseguito correttamente).\")\n",
    "\n",
    "if 'accuracy_test_tree' in locals():\n",
    "    test_accuracies['Albero Decisionale'] = accuracy_test_tree\n",
    "    print(f\"Accuratezza Albero Decisionale: {accuracy_test_tree:.4f}\")\n",
    "else:\n",
    "    print(\"Accuratezza Albero Decisionale non disponibile (COMPITO 9 non eseguito correttamente).\")\n",
    "\n",
    "if 'accuracy_test_knn' in locals():\n",
    "    test_accuracies['K-Nearest Neighbors'] = accuracy_test_knn\n",
    "    print(f\"Accuratezza K-Nearest Neighbors: {accuracy_test_knn:.4f}\")\n",
    "else:\n",
    "    print(\"Accuratezza K-Nearest Neighbors non disponibile (COMPITO 11 non eseguito correttamente).\")\n",
    "\n",
    "# Troviamo il modello con la migliore accuratezza\n",
    "if test_accuracies: # Assicurati che il dizionario non sia vuoto\n",
    "    best_model_name = max(test_accuracies, key=test_accuracies.get)\n",
    "    best_accuracy = test_accuracies[best_model_name]\n",
    "    print(f\"\\nIl metodo che funziona meglio sui dati di test è: {best_model_name} con un'accuratezza di {best_accuracy:.4f}\")\n",
    "else:\n",
    "    print(\"\\nNessun risultato di accuratezza disponibile per il confronto.\")"
   ]
  },
  {
   "cell_type": "markdown",
   "metadata": {},
   "source": [
    "## Authors\n"
   ]
  },
  {
   "cell_type": "markdown",
   "metadata": {},
   "source": [
    "[Pratiksha Verma](https://www.linkedin.com/in/pratiksha-verma-6487561b1/)\n"
   ]
  },
  {
   "cell_type": "markdown",
   "metadata": {},
   "source": [
    "<!--## Change Log--!>\n"
   ]
  },
  {
   "cell_type": "markdown",
   "metadata": {},
   "source": [
    "<!--| Date (YYYY-MM-DD) | Version | Changed By      | Change Description      |\n",
    "| ----------------- | ------- | -------------   | ----------------------- |\n",
    "| 2022-11-09        | 1.0     | Pratiksha Verma | Converted initial version to Jupyterlite|--!>\n"
   ]
  },
  {
   "cell_type": "markdown",
   "metadata": {},
   "source": [
    "### <h3 align=\"center\"> IBM Corporation 2022. All rights reserved. <h3/>\n"
   ]
  }
 ],
 "metadata": {
  "kernelspec": {
   "display_name": "Python [conda env:base] *",
   "language": "python",
   "name": "conda-base-py"
  },
  "language_info": {
   "codemirror_mode": {
    "name": "ipython",
    "version": 3
   },
   "file_extension": ".py",
   "mimetype": "text/x-python",
   "name": "python",
   "nbconvert_exporter": "python",
   "pygments_lexer": "ipython3",
   "version": "3.12.7"
  },
  "prev_pub_hash": "a5501fb88ab5b5bde27c181e07a41075e752f0fd554f771678b28ad2c2bd9f21"
 },
 "nbformat": 4,
 "nbformat_minor": 4
}
